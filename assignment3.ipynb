{
  "nbformat": 4,
  "nbformat_minor": 0,
  "metadata": {
    "colab": {
      "provenance": []
    },
    "kernelspec": {
      "name": "python3",
      "display_name": "Python 3"
    },
    "language_info": {
      "name": "python"
    }
  },
  "cells": [
    {
      "cell_type": "code",
      "execution_count": null,
      "metadata": {
        "colab": {
          "base_uri": "https://localhost:8080/"
        },
        "id": "fqC2jgd-QLqZ",
        "outputId": "8f30521a-f849-4072-f251-cb07fb0c61fd"
      },
      "outputs": [
        {
          "output_type": "stream",
          "name": "stdout",
          "text": [
            "Min value: 10\n",
            "Max value: 25\n"
          ]
        }
      ],
      "source": [
        "class TreeNode:\n",
        "    def __init__(self, data, left=None, right=None):\n",
        "        self.val = data\n",
        "        self.left = left\n",
        "        self.right = right\n",
        "\n",
        "class Solution:\n",
        "    def helper(self, root, h, currentHeight):\n",
        "        if not root:\n",
        "            return\n",
        "        self.helper(root.left, h, currentHeight + 1)\n",
        "        self.helper(root.right, h, currentHeight + 1)\n",
        "        if currentHeight < h:\n",
        "            if currentHeight % 2 == 0:\n",
        "                if root.left and root.right:\n",
        "                    root.val = max(root.left.val, root.right.val)\n",
        "                elif root.left:\n",
        "                    root.val = root.left.val\n",
        "                elif root.right:\n",
        "                    root.val = root.right.val\n",
        "            else:\n",
        "                if root.left and root.right:\n",
        "                    root.val = min(root.left.val, root.right.val)\n",
        "                elif root.left:\n",
        "                    root.val = root.left.val\n",
        "                elif root.right:\n",
        "                    root.val = root.right.val\n",
        "\n",
        "    def height(self, root):\n",
        "        if not root:\n",
        "            return 0\n",
        "        return 1 + max(self.height(root.left), self.height(root.right))\n",
        "\n",
        "    def solve(self, root):\n",
        "        h = self.height(root)\n",
        "        self.helper(root, h, 1)  # Start currentHeight at 1\n",
        "\n",
        "        # Now traverse the tree to find the minimum and maximum values\n",
        "        def traverse(node):\n",
        "            if not node:\n",
        "                return\n",
        "            nonlocal min_val, max_val\n",
        "            min_val = min(min_val, node.val)\n",
        "            max_val = max(max_val, node.val)\n",
        "            traverse(node.left)\n",
        "            traverse(node.right)\n",
        "\n",
        "        min_val = float('inf')  # Initialize min_val to positive infinity\n",
        "        max_val = float('-inf')  # Initialize max_val to negative infinity\n",
        "        traverse(root)\n",
        "\n",
        "        return min_val, max_val\n",
        "\n",
        "ob = Solution()\n",
        "root = TreeNode(1)\n",
        "root.left = TreeNode(2)\n",
        "root.right = TreeNode(3)\n",
        "root.left.left = TreeNode(10)\n",
        "root.left.right = TreeNode(12)\n",
        "root.right.left = TreeNode(20)\n",
        "root.right.right = TreeNode(25)\n",
        "\n",
        "min_val, max_val = ob.solve(root)\n",
        "\n",
        "print(f\"Min value: {min_val}\")\n",
        "print(f\"Max value: {max_val}\")\n"
      ]
    },
    {
      "cell_type": "code",
      "source": [
        "def alphabeta(node, alpha, beta, is_maximizing_player):\n",
        "    if node.is_terminal():\n",
        "        return node.value\n",
        "\n",
        "    if is_maximizing_player:\n",
        "        max_eval = float('-inf')\n",
        "        for child in node.children:\n",
        "            eval = alphabeta(child, alpha, beta, False)\n",
        "            max_eval = max(max_eval, eval)\n",
        "            alpha = max(alpha, eval)\n",
        "            if beta <= alpha:\n",
        "                break\n",
        "        return max_eval\n",
        "    else:\n",
        "        min_eval = float('inf')\n",
        "        for child in node.children:\n",
        "            eval = alphabeta(child, alpha, beta, True)\n",
        "            min_eval = min(min_eval, eval)\n",
        "            beta = min(beta, eval)\n",
        "            if beta <= alpha:\n",
        "                break\n",
        "        return min_eval\n",
        "\n",
        "# Creating the tree\n",
        "class Node:\n",
        "    def __init__(self, value, children=[]):\n",
        "        self.value = value\n",
        "        self.children = children\n",
        "\n",
        "    def is_terminal(self):\n",
        "        return len(self.children) == 0\n",
        "\n",
        "node_12 = Node(12)\n",
        "node_10 = Node(10)\n",
        "node_2 = Node(2, [node_12, node_10])\n",
        "\n",
        "node_36 = Node(36)\n",
        "node_25 = Node(25)\n",
        "node_3 = Node(3, [node_36, node_25])\n",
        "\n",
        "node_1 = Node(1, [node_2, node_3])\n",
        "\n",
        "# Running the algorithm with alpha=10, beta=10\n",
        "alpha = 10\n",
        "beta = 10\n",
        "result = alphabeta(node_1, alpha, beta, True)\n",
        "\n",
        "print(\"alpha value:\", alpha)\n",
        "print(\"beta value:\", beta)\n"
      ],
      "metadata": {
        "colab": {
          "base_uri": "https://localhost:8080/"
        },
        "id": "me2uAeu2xHol",
        "outputId": "fe39b70f-e0c2-4cfc-8a14-c5fb8595d742"
      },
      "execution_count": 6,
      "outputs": [
        {
          "output_type": "stream",
          "name": "stdout",
          "text": [
            "alpha value: 10\n",
            "beta value: 10\n"
          ]
        }
      ]
    }
  ]
}